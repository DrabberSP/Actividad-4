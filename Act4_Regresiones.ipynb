{
  "nbformat": 4,
  "nbformat_minor": 0,
  "metadata": {
    "colab": {
      "provenance": [],
      "authorship_tag": "ABX9TyNz6Jy6CDZfQIoXuyfjIsJ5",
      "include_colab_link": true
    },
    "kernelspec": {
      "name": "python3",
      "display_name": "Python 3"
    },
    "language_info": {
      "name": "python"
    }
  },
  "cells": [
    {
      "cell_type": "markdown",
      "metadata": {
        "id": "view-in-github",
        "colab_type": "text"
      },
      "source": [
        "<a href=\"https://colab.research.google.com/github/DrabberSP/Actividad-4/blob/main/Act4_Regresiones.ipynb\" target=\"_parent\"><img src=\"https://colab.research.google.com/assets/colab-badge.svg\" alt=\"Open In Colab\"/></a>"
      ]
    },
    {
      "cell_type": "code",
      "execution_count": 1,
      "metadata": {
        "id": "mjQw6EFrjxQx"
      },
      "outputs": [],
      "source": [
        "# Cargamos librerias\n",
        "import pandas as pd\n",
        "import numpy as np\n",
        "import matplotlib.pyplot as plt\n",
        "import scipy.special as special\n",
        "from scipy.optimize import curve_fit\n",
        "import seaborn as sns\n",
        "from sklearn.metrics import r2_score\n",
        "from sklearn.model_selection import train_test_split\n",
        "from sklearn.preprocessing import StandardScaler"
      ]
    },
    {
      "cell_type": "code",
      "source": [
        "# Cargar archivo csv desde equipo\n",
        "from google.colab import files\n",
        "files.upload()"
      ],
      "metadata": {
        "id": "JiuNMhsBkV8e"
      },
      "execution_count": null,
      "outputs": []
    },
    {
      "cell_type": "code",
      "source": [
        "# Cargar archivo .xlsx desde equipo\n",
        "MRetailer=pd.read_excel('microretailer_mit_lift_lab_actualizado.xlsx')"
      ],
      "metadata": {
        "id": "Rmts_eLSmEfZ"
      },
      "execution_count": 3,
      "outputs": []
    },
    {
      "cell_type": "code",
      "source": [
        "# Obtenemos información del archivo\n",
        "MRetailer.info()"
      ],
      "metadata": {
        "colab": {
          "base_uri": "https://localhost:8080/"
        },
        "id": "Oj29Dli0mNr0",
        "outputId": "b58c4a17-29a4-486b-d7e3-ac5c7bd9e708"
      },
      "execution_count": 4,
      "outputs": [
        {
          "output_type": "stream",
          "name": "stdout",
          "text": [
            "<class 'pandas.core.frame.DataFrame'>\n",
            "RangeIndex: 330 entries, 0 to 329\n",
            "Columns: 106 entries, _record_id to 235_email\n",
            "dtypes: float64(20), int64(2), object(84)\n",
            "memory usage: 273.4+ KB\n"
          ]
        }
      ]
    },
    {
      "cell_type": "code",
      "source": [
        "# Filtro por columnas no consecutivas\n",
        "#filtro=MRetailer.iloc[:,[13,14,16,21,22,29,31,33,41,42,43,44,45,49,51,56,57,58,59,60,78,90]] #todo el archivo"
      ],
      "metadata": {
        "id": "zaHnl4z0vSz2"
      },
      "execution_count": 5,
      "outputs": []
    },
    {
      "cell_type": "code",
      "source": [
        "# Identificar valores nulos por columna\n",
        "valores_nulos=MRetailer.isnull().sum()\n",
        "valores_nulos"
      ],
      "metadata": {
        "colab": {
          "base_uri": "https://localhost:8080/"
        },
        "id": "mw_PFVTimR_R",
        "outputId": "70544513-43dc-4797-9745-91f59b690fd7"
      },
      "execution_count": 23,
      "outputs": [
        {
          "output_type": "execute_result",
          "data": {
            "text/plain": [
              "_record_id                                0\n",
              "_title                                    0\n",
              "_server_updated_at                        0\n",
              "_updated_by                               0\n",
              "_geometry                                 0\n",
              "                                       ... \n",
              "234_willingness_participate_workshop    125\n",
              "318_shopkeeper_name                     249\n",
              "319_shopkeepers_last_name               252\n",
              "236_whatsapp                            255\n",
              "235_email                               283\n",
              "Length: 106, dtype: int64"
            ]
          },
          "metadata": {},
          "execution_count": 23
        }
      ]
    },
    {
      "cell_type": "markdown",
      "source": [
        "Reemplazamos Valores Nulos"
      ],
      "metadata": {
        "id": "JFrwvyqhvYjw"
      }
    },
    {
      "cell_type": "code",
      "source": [
        "# Realizamos una copia del dataframe\n",
        "Retailers_Nulos=MRetailer.copy()\n",
        "# Reemplazamos valores nulos\n",
        "Retailers_Nulos=Retailers_Nulos.fillna(method='bfill')\n",
        "Retailers_Nulos"
      ],
      "metadata": {
        "id": "ZwWUZE53nZoY"
      },
      "execution_count": null,
      "outputs": []
    },
    {
      "cell_type": "code",
      "source": [
        "# Identificar valores nulos de todo el dataframe\n",
        "valores_nulos=Retailers_Nulos.isnull().sum().sum()\n",
        "valores_nulos"
      ],
      "metadata": {
        "colab": {
          "base_uri": "https://localhost:8080/"
        },
        "id": "Ze_56HOgnkdU",
        "outputId": "ac1652d6-d9a0-4531-a5ce-6c3a44f745f6"
      },
      "execution_count": 25,
      "outputs": [
        {
          "output_type": "execute_result",
          "data": {
            "text/plain": [
              "1583"
            ]
          },
          "metadata": {},
          "execution_count": 25
        }
      ]
    },
    {
      "cell_type": "code",
      "source": [
        "# Copia del dataframe para elimnar más valores nulos\n",
        "Retailers_N1=Retailers_Nulos.copy()\n",
        "Retailers_N1=Retailers_Nulos.fillna(method='ffill')\n",
        "Retailers_N1"
      ],
      "metadata": {
        "id": "RcoNhDgUnngd"
      },
      "execution_count": null,
      "outputs": []
    },
    {
      "cell_type": "code",
      "source": [
        "# Identificar valores nulos de todo el dataframe\n",
        "valores_nulos=Retailers_N1.isnull().sum().sum()\n",
        "valores_nulos"
      ],
      "metadata": {
        "colab": {
          "base_uri": "https://localhost:8080/"
        },
        "id": "EJpgrKNnnp8r",
        "outputId": "34564e24-25f6-4a65-adc7-46b8409e772b"
      },
      "execution_count": 27,
      "outputs": [
        {
          "output_type": "execute_result",
          "data": {
            "text/plain": [
              "0"
            ]
          },
          "metadata": {},
          "execution_count": 27
        }
      ]
    },
    {
      "cell_type": "markdown",
      "source": [
        "Reemplazamos Outliers"
      ],
      "metadata": {
        "id": "IC-3yG_Nn3Jf"
      }
    },
    {
      "cell_type": "code",
      "source": [
        "R_Filtrado=Retailers_N1.copy()"
      ],
      "metadata": {
        "id": "E0yl1bmxpuYb"
      },
      "execution_count": 28,
      "outputs": []
    },
    {
      "cell_type": "code",
      "source": [
        "#Identificamos las variables no numéricas para eliminar columnas incecesarias de texto\n",
        "R_Filtrado.info(106)"
      ],
      "metadata": {
        "id": "V6X5inqrpzyW"
      },
      "execution_count": null,
      "outputs": []
    },
    {
      "cell_type": "code",
      "source": [
        "# Filtro para la columna de numéricos\n",
        "filtro1=Retailers_N1.iloc[:,[13,14,16,21,22,29,31,33,41,42,43,44,45,49,51,56,57,58,59,60,78,90]]\n",
        "    #1,2,3,4,5,6,7,8,9,10,11,12,15,17,18,19,20,23,24,25,26,27,28,30,32,34,35,36,37,38,39,40,46,47,48,50,52,53,54,55,61,62,63,64,65,66,67,68,69,70,71,72,73,74,75,76,77,79,80,81,82,83,84,85,86,87,88,89]]"
      ],
      "metadata": {
        "id": "bqNltcv4tfQH"
      },
      "execution_count": 30,
      "outputs": []
    },
    {
      "cell_type": "code",
      "source": [
        "#Método aplicando Cuartiles. Encuentro cuartiles 0.25 y 0.75\n",
        "y=filtro1\n",
        "\n",
        "percentile25=y.quantile(0.25) #Q1\n",
        "percentile75=y.quantile(0.75) #Q3\n",
        "iqr= percentile75 - percentile25\n",
        "\n",
        "Limite_Superior_iqr= percentile75 + 1.5*iqr\n",
        "Limite_Inferior_iqr= percentile25 - 1.5*iqr\n",
        "print(\"Limite superior permitido\", Limite_Superior_iqr)\n",
        "print(\"Limite inferior permitido\", Limite_Inferior_iqr)"
      ],
      "metadata": {
        "id": "X1tCHwWNqaou"
      },
      "execution_count": null,
      "outputs": []
    },
    {
      "cell_type": "code",
      "source": [
        "# Encontramos Outliers del Dataframe\n",
        "outliers_iqr= Retailers_N1[(y>Limite_Superior_iqr)|(y<Limite_Inferior_iqr)]\n",
        "outliers_iqr"
      ],
      "metadata": {
        "id": "eQxrYNIAqdct"
      },
      "execution_count": null,
      "outputs": []
    },
    {
      "cell_type": "code",
      "source": [
        "# Obtenemos datos limpios del Dataframe\n",
        "data3_iqr= Retailers_N1[(y<=Limite_Superior_iqr)&(y>=Limite_Inferior_iqr)]\n",
        "data3_iqr"
      ],
      "metadata": {
        "id": "iPs80MpeqfZe"
      },
      "execution_count": null,
      "outputs": []
    },
    {
      "cell_type": "code",
      "source": [
        "# Corroboramos valores nulos del dataframe LIMPIO\n",
        "valores_nulos=data3_iqr.isnull().sum()\n",
        "valores_nulos"
      ],
      "metadata": {
        "id": "1JwTpFyfqheP"
      },
      "execution_count": null,
      "outputs": []
    },
    {
      "cell_type": "code",
      "source": [
        "# Reemplazamos valores atípicos (nulos) del dataframe con \"mean\"\n",
        "#Realizamos una copia del dataframe\n",
        "data4_iqr=data3_iqr.copy()\n",
        "data4_iqr=data4_iqr.fillna(round(data3_iqr.mean(),1))\n",
        "data4_iqr"
      ],
      "metadata": {
        "id": "w0pvN3vpqjYV"
      },
      "execution_count": null,
      "outputs": []
    },
    {
      "cell_type": "code",
      "source": [
        "# Unimos las columnas\n",
        "Union=Retailers_N1\n",
        "Datos_limpios=pd.concat([Union, filtro1],axis=1)\n",
        "Datos_limpios#concatenar con columna limpia de nulos"
      ],
      "metadata": {
        "id": "A5BWdUXrshlX"
      },
      "execution_count": null,
      "outputs": []
    },
    {
      "cell_type": "code",
      "source": [
        "# Corroboramos valores nulos del dataframe LIMPIO\n",
        "valores_nulos=Datos_limpios.isnull().sum()\n",
        "valores_nulos"
      ],
      "metadata": {
        "id": "D9QOg8t-qnSO",
        "colab": {
          "base_uri": "https://localhost:8080/"
        },
        "outputId": "200e68e6-10bd-4fe5-d79f-5fbc98d9366a"
      },
      "execution_count": 44,
      "outputs": [
        {
          "output_type": "execute_result",
          "data": {
            "text/plain": [
              "_record_id                             0\n",
              "_title                                 0\n",
              "_server_updated_at                     0\n",
              "_updated_by                            0\n",
              "_geometry                              0\n",
              "                                      ..\n",
              "317_home_deliveries                    0\n",
              "62_frequency_only_services             0\n",
              "78_number_home_deliveries_week         0\n",
              "172_supplier_frequency                 0\n",
              "163_number_high_perishable_products    0\n",
              "Length: 128, dtype: int64"
            ]
          },
          "metadata": {},
          "execution_count": 44
        }
      ]
    },
    {
      "cell_type": "code",
      "source": [
        "# Convertir archivo a csv\n",
        "Datos_limpios.to_csv(\"MicroRetailer_Final.csv\")"
      ],
      "metadata": {
        "id": "mNzyeSZysIso"
      },
      "execution_count": 45,
      "outputs": []
    },
    {
      "cell_type": "code",
      "source": [
        "# Descargar archivo en csv\n",
        "from google.colab import files\n",
        "files.download(\"MicroRetailer_Final.csv\")"
      ],
      "metadata": {
        "id": "o3tYaGi6sPQh",
        "colab": {
          "base_uri": "https://localhost:8080/",
          "height": 17
        },
        "outputId": "bcb56a01-0596-4853-db33-27e803c0ad05"
      },
      "execution_count": 47,
      "outputs": [
        {
          "output_type": "display_data",
          "data": {
            "text/plain": [
              "<IPython.core.display.Javascript object>"
            ],
            "application/javascript": [
              "\n",
              "    async function download(id, filename, size) {\n",
              "      if (!google.colab.kernel.accessAllowed) {\n",
              "        return;\n",
              "      }\n",
              "      const div = document.createElement('div');\n",
              "      const label = document.createElement('label');\n",
              "      label.textContent = `Downloading \"${filename}\": `;\n",
              "      div.appendChild(label);\n",
              "      const progress = document.createElement('progress');\n",
              "      progress.max = size;\n",
              "      div.appendChild(progress);\n",
              "      document.body.appendChild(div);\n",
              "\n",
              "      const buffers = [];\n",
              "      let downloaded = 0;\n",
              "\n",
              "      const channel = await google.colab.kernel.comms.open(id);\n",
              "      // Send a message to notify the kernel that we're ready.\n",
              "      channel.send({})\n",
              "\n",
              "      for await (const message of channel.messages) {\n",
              "        // Send a message to notify the kernel that we're ready.\n",
              "        channel.send({})\n",
              "        if (message.buffers) {\n",
              "          for (const buffer of message.buffers) {\n",
              "            buffers.push(buffer);\n",
              "            downloaded += buffer.byteLength;\n",
              "            progress.value = downloaded;\n",
              "          }\n",
              "        }\n",
              "      }\n",
              "      const blob = new Blob(buffers, {type: 'application/binary'});\n",
              "      const a = document.createElement('a');\n",
              "      a.href = window.URL.createObjectURL(blob);\n",
              "      a.download = filename;\n",
              "      div.appendChild(a);\n",
              "      a.click();\n",
              "      div.remove();\n",
              "    }\n",
              "  "
            ]
          },
          "metadata": {}
        },
        {
          "output_type": "display_data",
          "data": {
            "text/plain": [
              "<IPython.core.display.Javascript object>"
            ],
            "application/javascript": [
              "download(\"download_b760c7cf-f47c-458c-9e35-0f6a3aa64805\", \"MicroRetailer_Final.csv\", 556408)"
            ]
          },
          "metadata": {}
        }
      ]
    },
    {
      "cell_type": "markdown",
      "source": [
        "Casos de Regresión lineal y logística"
      ],
      "metadata": {
        "id": "CVj9syedrQN_"
      }
    },
    {
      "cell_type": "code",
      "source": [
        "# Cargar archivo csv desde equipo\n",
        "from google.colab import files\n",
        "files.upload()"
      ],
      "metadata": {
        "id": "4JOcFI7B0iUL"
      },
      "execution_count": null,
      "outputs": []
    },
    {
      "cell_type": "code",
      "source": [
        "# Cargar archivo .xlsx desde equipo\n",
        "df=pd.read_csv('MicroRetailer_Final.csv')\n",
        "df.head(5)"
      ],
      "metadata": {
        "id": "omAn4i_srSb1"
      },
      "execution_count": null,
      "outputs": []
    },
    {
      "cell_type": "markdown",
      "source": [
        "Regresión lineal 1"
      ],
      "metadata": {
        "id": "D5YJZYGl6vr0"
      }
    },
    {
      "cell_type": "code",
      "source": [
        "# Se grafican mapas de dispersión\n",
        "from turtle import color\n",
        "sns.scatterplot(x='4_number_permanent_employees_last_year', y='2_current_permanent_employees', color='blue', data=df)\n",
        "sns.scatterplot(x='145_number_direct_competitors', y='2_current_permanent_employees', color='red', data=df)\n",
        "sns.scatterplot(x='24_burnout', y='2_current_permanent_employees', color='yellow', data=df)"
      ],
      "metadata": {
        "id": "Ku5VMZtm1hG-"
      },
      "execution_count": null,
      "outputs": []
    },
    {
      "cell_type": "code",
      "source": [
        "# Declaramos las variables dependientes e independientes para la regresión lineal\n",
        "Vars_Indep1=df[['4_number_permanent_employees_last_year','145_number_direct_competitors','24_burnout']]\n",
        "Var_Dep1=df['2_current_permanent_employees']"
      ],
      "metadata": {
        "id": "LXGoZkEn5Zuy"
      },
      "execution_count": 62,
      "outputs": []
    },
    {
      "cell_type": "code",
      "source": [
        "# Se define model como la función de regresión lineal\n",
        "from sklearn.linear_model import LinearRegression\n",
        "model= LinearRegression()"
      ],
      "metadata": {
        "id": "rf7eTXJJ5tid"
      },
      "execution_count": 63,
      "outputs": []
    },
    {
      "cell_type": "code",
      "source": [
        "# Verificamos la función relacionada al modelo\n",
        "type(model)"
      ],
      "metadata": {
        "colab": {
          "base_uri": "https://localhost:8080/"
        },
        "id": "GmvmlODl5wIR",
        "outputId": "4b85d391-1b60-4feb-86e8-d777abca986b"
      },
      "execution_count": 64,
      "outputs": [
        {
          "output_type": "execute_result",
          "data": {
            "text/plain": [
              "sklearn.linear_model._base.LinearRegression"
            ]
          },
          "metadata": {},
          "execution_count": 64
        }
      ]
    },
    {
      "cell_type": "code",
      "source": [
        "# Ajustamos el modelo con las variables antes declaradas\n",
        "model.fit(X=Vars_Indep1, y=Var_Dep1)"
      ],
      "metadata": {
        "colab": {
          "base_uri": "https://localhost:8080/"
        },
        "id": "yWP24rmg5y--",
        "outputId": "bb2e0836-ba8c-435a-f3c7-1ef6946405d1"
      },
      "execution_count": 65,
      "outputs": [
        {
          "output_type": "execute_result",
          "data": {
            "text/plain": [
              "LinearRegression()"
            ]
          },
          "metadata": {},
          "execution_count": 65
        }
      ]
    },
    {
      "cell_type": "code",
      "source": [
        "# Verificamos los coeficientes obtenidos para el modelo ajustado\n",
        "model.__dict__"
      ],
      "metadata": {
        "colab": {
          "base_uri": "https://localhost:8080/"
        },
        "id": "sDJqc5ic52yy",
        "outputId": "251510a0-d4c1-4b9e-8358-f8d248db72a9"
      },
      "execution_count": 66,
      "outputs": [
        {
          "output_type": "execute_result",
          "data": {
            "text/plain": [
              "{'fit_intercept': True,\n",
              " 'normalize': 'deprecated',\n",
              " 'copy_X': True,\n",
              " 'n_jobs': None,\n",
              " 'positive': False,\n",
              " 'feature_names_in_': array(['4_number_permanent_employees_last_year',\n",
              "        '145_number_direct_competitors', '24_burnout'], dtype=object),\n",
              " 'n_features_in_': 3,\n",
              " 'coef_': array([0.50457784, 0.03992507, 0.06387438]),\n",
              " '_residues': 1749.2528405161174,\n",
              " 'rank_': 3,\n",
              " 'singular_': array([81.79606507, 76.41957708, 36.11786902]),\n",
              " 'intercept_': 0.4932986612427839}"
            ]
          },
          "metadata": {},
          "execution_count": 66
        }
      ]
    },
    {
      "cell_type": "code",
      "source": [
        "# Evaluamos la eficiencia del modelo obtenido por medio del coeficiente R2 de determinación\n",
        "model.score(Vars_Indep1,Var_Dep1)"
      ],
      "metadata": {
        "colab": {
          "base_uri": "https://localhost:8080/"
        },
        "id": "U3h-YgVx56Wb",
        "outputId": "bd1a136c-4eae-46ec-bf8e-f4e9129f90d5"
      },
      "execution_count": 67,
      "outputs": [
        {
          "output_type": "execute_result",
          "data": {
            "text/plain": [
              "0.4943913135058958"
            ]
          },
          "metadata": {},
          "execution_count": 67
        }
      ]
    },
    {
      "cell_type": "markdown",
      "source": [
        "Regresión Logística 1"
      ],
      "metadata": {
        "id": "qMKeZzNNCCMA"
      }
    },
    {
      "cell_type": "code",
      "source": [
        "# Redefinimos las variables\n",
        "X=Vars_Indep1\n",
        "y=Var_Dep1"
      ],
      "metadata": {
        "id": "hh9udITzCJRX"
      },
      "execution_count": 68,
      "outputs": []
    },
    {
      "cell_type": "code",
      "source": [
        "# Dividimos el conjunto de datos en la parte de entrenamiento y prueba\n",
        "X_train,X_test,y_train,y_test = train_test_split(X,y,test_size=0.3,random_state=None)"
      ],
      "metadata": {
        "id": "M3Xfh3J_C8iC"
      },
      "execution_count": 69,
      "outputs": []
    },
    {
      "cell_type": "code",
      "source": [
        "# Se escalan todos los datos\n",
        "escalar = StandardScaler()"
      ],
      "metadata": {
        "id": "9JrAbvIKC_hR"
      },
      "execution_count": 70,
      "outputs": []
    },
    {
      "cell_type": "code",
      "source": [
        "#Para realizar el escalamiento de las variables “X” tanto de entrenamiento como de prueba, utilizaremos fit_transform\n",
        "X_train = escalar.fit_transform(X_train)\n",
        "X_test = escalar.transform(X_test)"
      ],
      "metadata": {
        "id": "c5bWlVKhDChh"
      },
      "execution_count": 71,
      "outputs": []
    },
    {
      "cell_type": "code",
      "source": [
        "# Verificamos el algoritmo a utilizar\n",
        "from sklearn.linear_model import LogisticRegression\n",
        "algoritmo = LogisticRegression()"
      ],
      "metadata": {
        "id": "LleKLfyeDJNq"
      },
      "execution_count": 72,
      "outputs": []
    },
    {
      "cell_type": "code",
      "source": [
        "# Entrenamos el modelo\n",
        "algoritmo.fit(X_train , y_train)"
      ],
      "metadata": {
        "colab": {
          "base_uri": "https://localhost:8080/"
        },
        "id": "YXQCBqSEDKWs",
        "outputId": "1c612363-b270-4773-e1b3-87a104cd997e"
      },
      "execution_count": 73,
      "outputs": [
        {
          "output_type": "execute_result",
          "data": {
            "text/plain": [
              "LogisticRegression()"
            ]
          },
          "metadata": {},
          "execution_count": 73
        }
      ]
    },
    {
      "cell_type": "code",
      "source": [
        "# Realizamos una predicción\n",
        "y_pred = algoritmo.predict(X_test)\n",
        "y_pred"
      ],
      "metadata": {
        "id": "TfIbedy8DSLt"
      },
      "execution_count": null,
      "outputs": []
    },
    {
      "cell_type": "code",
      "source": [
        "#Verifico la matriz de Confusión\n",
        "from sklearn.metrics import confusion_matrix\n",
        "matriz = confusion_matrix(y_test, y_pred)\n",
        "print('Matriz de Confusión:')\n",
        "print(matriz)"
      ],
      "metadata": {
        "id": "g1qtEvHSDWTK"
      },
      "execution_count": null,
      "outputs": []
    },
    {
      "cell_type": "code",
      "source": [
        "#Calculo la precisión del modelo\n",
        "from sklearn.metrics import precision_score\n",
        "\n",
        "precision = precision_score(y_test, y_pred, average=\"weighted\", pos_label=\"yes\")\n",
        "print('Precisión del modelo:')\n",
        "print(precision)"
      ],
      "metadata": {
        "colab": {
          "base_uri": "https://localhost:8080/"
        },
        "id": "JrLMJ-hiDZnS",
        "outputId": "5fba9813-2132-4d8c-f03c-0db78aa3767e"
      },
      "execution_count": 88,
      "outputs": [
        {
          "output_type": "stream",
          "name": "stdout",
          "text": [
            "Precisión del modelo:\n",
            "0.513718747761301\n"
          ]
        },
        {
          "output_type": "stream",
          "name": "stderr",
          "text": [
            "/usr/local/lib/python3.7/dist-packages/sklearn/metrics/_classification.py:1375: UserWarning: Note that pos_label (set to 'yes') is ignored when average != 'binary' (got 'weighted'). You may use labels=[pos_label] to specify a single positive class.\n",
            "  UserWarning,\n",
            "/usr/local/lib/python3.7/dist-packages/sklearn/metrics/_classification.py:1318: UndefinedMetricWarning: Precision is ill-defined and being set to 0.0 in labels with no predicted samples. Use `zero_division` parameter to control this behavior.\n",
            "  _warn_prf(average, modifier, msg_start, len(result))\n"
          ]
        }
      ]
    },
    {
      "cell_type": "code",
      "source": [
        "#Calculo la exactitud del modelo\n",
        "from sklearn.metrics import accuracy_score\n",
        "\n",
        "exactitud = accuracy_score(y_test, y_pred)\n",
        "print('Exactitud del modelo:')\n",
        "print(exactitud)"
      ],
      "metadata": {
        "colab": {
          "base_uri": "https://localhost:8080/"
        },
        "id": "iFWvaRH7EiVs",
        "outputId": "243fc740-96a7-4b37-9f81-e807ca08a59e"
      },
      "execution_count": 89,
      "outputs": [
        {
          "output_type": "stream",
          "name": "stdout",
          "text": [
            "Exactitud del modelo:\n",
            "0.5252525252525253\n"
          ]
        }
      ]
    },
    {
      "cell_type": "code",
      "source": [
        "# Calculo la sensibilidad del modelo\n",
        "from sklearn.metrics import recall_score\n",
        "\n",
        "sensibilidad = recall_score(y_test, y_pred, average=\"weighted\", pos_label=\"yes\")\n",
        "print('Sensibilidad del modelo:')\n",
        "print(sensibilidad)"
      ],
      "metadata": {
        "colab": {
          "base_uri": "https://localhost:8080/"
        },
        "id": "rwUxL0N5El67",
        "outputId": "69a01cf9-afcf-473e-cf3d-8075656ac8c8"
      },
      "execution_count": 90,
      "outputs": [
        {
          "output_type": "stream",
          "name": "stdout",
          "text": [
            "Sensibilidad del modelo:\n",
            "0.5252525252525253\n"
          ]
        },
        {
          "output_type": "stream",
          "name": "stderr",
          "text": [
            "/usr/local/lib/python3.7/dist-packages/sklearn/metrics/_classification.py:1375: UserWarning: Note that pos_label (set to 'yes') is ignored when average != 'binary' (got 'weighted'). You may use labels=[pos_label] to specify a single positive class.\n",
            "  UserWarning,\n"
          ]
        }
      ]
    }
  ]
}